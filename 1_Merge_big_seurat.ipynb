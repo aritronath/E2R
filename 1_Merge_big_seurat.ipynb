{
 "cells": [
  {
   "cell_type": "code",
   "execution_count": 1,
   "id": "0ccf9d7f",
   "metadata": {},
   "outputs": [
    {
     "name": "stderr",
     "output_type": "stream",
     "text": [
      "Attaching SeuratObject\n",
      "\n",
      "qs v0.25.1.\n",
      "\n"
     ]
    }
   ],
   "source": [
    "library(Seurat)\n",
    "library(glmGamPoi)\n",
    "library(limma)\n",
    "library(future)\n",
    "library(qs)"
   ]
  },
  {
   "cell_type": "code",
   "execution_count": 2,
   "id": "431d7c1f",
   "metadata": {},
   "outputs": [
    {
     "data": {
      "text/html": [
       "<pre class=language-r><code>structure(function (..., envir = parent.frame(), workers = 16) \n",
       "strategy(..., envir = envir, workers = workers), class = c(\"FutureStrategy\", \n",
       "\"tweaked\", \"multicore\", \"multiprocess\", \"future\", \"function\"), call = plan(\"multicore\", \n",
       "<span style=white-space:pre-wrap>    workers = 16))</span></code></pre>"
      ],
      "text/latex": [
       "\\begin{minted}{r}\n",
       "structure(function (..., envir = parent.frame(), workers = 16) \n",
       "strategy(..., envir = envir, workers = workers), class = c(\"FutureStrategy\", \n",
       "\"tweaked\", \"multicore\", \"multiprocess\", \"future\", \"function\"), call = plan(\"multicore\", \n",
       "    workers = 16))\n",
       "\\end{minted}"
      ],
      "text/markdown": [
       "```r\n",
       "structure(function (..., envir = parent.frame(), workers = 16) \n",
       "strategy(..., envir = envir, workers = workers), class = c(\"FutureStrategy\", \n",
       "\"tweaked\", \"multicore\", \"multiprocess\", \"future\", \"function\"), call = plan(\"multicore\", \n",
       "    workers = 16))\n",
       "```"
      ],
      "text/plain": [
       "multicore:\n",
       "- args: function (..., envir = parent.frame(), workers = 16)\n",
       "- tweaked: TRUE\n",
       "- call: plan(\"multicore\", workers = 16)"
      ]
     },
     "metadata": {},
     "output_type": "display_data"
    }
   ],
   "source": [
    "plan(\"multicore\", workers = 16)\n",
    "plan()"
   ]
  },
  {
   "cell_type": "code",
   "execution_count": 3,
   "id": "971c6392",
   "metadata": {},
   "outputs": [
    {
     "name": "stdout",
     "output_type": "stream",
     "text": [
      "[1] 15\n"
     ]
    }
   ],
   "source": [
    "library(parallel)\n",
    "ncores <- detectCores()-1\n",
    "cl <- makeCluster(ncores)\n",
    "print(ncores)"
   ]
  },
  {
   "cell_type": "code",
   "execution_count": 4,
   "id": "1d5662cb",
   "metadata": {},
   "outputs": [
    {
     "data": {
      "text/html": [
       "<table class=\"dataframe\">\n",
       "<caption>A matrix: 2 × 6 of type dbl</caption>\n",
       "<thead>\n",
       "\t<tr><th></th><th scope=col>used</th><th scope=col>(Mb)</th><th scope=col>gc trigger</th><th scope=col>(Mb)</th><th scope=col>max used</th><th scope=col>(Mb)</th></tr>\n",
       "</thead>\n",
       "<tbody>\n",
       "\t<tr><th scope=row>Ncells</th><td>   6259588</td><td>  334.3</td><td>   9674024</td><td>  516.7</td><td>   8140008</td><td>  434.8</td></tr>\n",
       "\t<tr><th scope=row>Vcells</th><td>2131999239</td><td>16265.9</td><td>5877426834</td><td>44841.3</td><td>5666752273</td><td>43233.9</td></tr>\n",
       "</tbody>\n",
       "</table>\n"
      ],
      "text/latex": [
       "A matrix: 2 × 6 of type dbl\n",
       "\\begin{tabular}{r|llllll}\n",
       "  & used & (Mb) & gc trigger & (Mb) & max used & (Mb)\\\\\n",
       "\\hline\n",
       "\tNcells &    6259588 &   334.3 &    9674024 &   516.7 &    8140008 &   434.8\\\\\n",
       "\tVcells & 2131999239 & 16265.9 & 5877426834 & 44841.3 & 5666752273 & 43233.9\\\\\n",
       "\\end{tabular}\n"
      ],
      "text/markdown": [
       "\n",
       "A matrix: 2 × 6 of type dbl\n",
       "\n",
       "| <!--/--> | used | (Mb) | gc trigger | (Mb) | max used | (Mb) |\n",
       "|---|---|---|---|---|---|---|\n",
       "| Ncells |    6259588 |   334.3 |    9674024 |   516.7 |    8140008 |   434.8 |\n",
       "| Vcells | 2131999239 | 16265.9 | 5877426834 | 44841.3 | 5666752273 | 43233.9 |\n",
       "\n"
      ],
      "text/plain": [
       "       used       (Mb)    gc trigger (Mb)    max used   (Mb)   \n",
       "Ncells    6259588   334.3    9674024   516.7    8140008   434.8\n",
       "Vcells 2131999239 16265.9 5877426834 44841.3 5666752273 43233.9"
      ]
     },
     "metadata": {},
     "output_type": "display_data"
    }
   ],
   "source": [
    "# Load four Seurat objects and merge \n",
    "A <- qread(\"COH096.seurat_v2.qs\")\n",
    "B <- qread(\"COH098.seurat_v2.qs\")\n",
    "C <- qread(\"COH099.seurat_v2.qs\")\n",
    "D <- qread(\"COH100.seurat_v2.qs\")\n",
    "\n",
    "#A.encode <- readRDS(\"COH096.Singler.encode.RDS\")\n",
    "#B.encode <- readRDS(\"COH098.Singler.encode.RDS\")\n",
    "#C.encode <- readRDS(\"COH099.Singler.encode.RDS\")\n",
    "#D.encode <- readRDS(\"COH100.Singler.encode.RDS\")\n",
    "#A$encode <- A.encode$pruned.labels\n",
    "#B$encode <- B.encode$pruned.labels\n",
    "#C$encode <- C.encode$pruned.labels\n",
    "#D$encode <- D.encode$pruned.labels\n",
    "\n",
    "big.seurat <- merge(A, y=c(B, C, D))\n",
    "\n",
    "rm(A, B, C, D)\n",
    "gc()"
   ]
  },
  {
   "cell_type": "code",
   "execution_count": 21,
   "id": "ff1f8afe",
   "metadata": {},
   "outputs": [
    {
     "data": {
      "text/html": [
       "<style>\n",
       ".list-inline {list-style: none; margin:0; padding: 0}\n",
       ".list-inline>li {display: inline-block}\n",
       ".list-inline>li:not(:last-child)::after {content: \"\\00b7\"; padding: 0 .5ex}\n",
       "</style>\n",
       "<ol class=list-inline><li>21244</li><li>219532</li></ol>\n"
      ],
      "text/latex": [
       "\\begin{enumerate*}\n",
       "\\item 21244\n",
       "\\item 219532\n",
       "\\end{enumerate*}\n"
      ],
      "text/markdown": [
       "1. 21244\n",
       "2. 219532\n",
       "\n",
       "\n"
      ],
      "text/plain": [
       "[1]  21244 219532"
      ]
     },
     "metadata": {},
     "output_type": "display_data"
    }
   ],
   "source": [
    "dim(big.seurat)"
   ]
  },
  {
   "cell_type": "code",
   "execution_count": 6,
   "id": "aface943",
   "metadata": {},
   "outputs": [],
   "source": [
    "qsave(big.seurat, file=\"1_big.seurat_v2.qs\")"
   ]
  },
  {
   "cell_type": "code",
   "execution_count": 20,
   "id": "5ca5d873",
   "metadata": {},
   "outputs": [],
   "source": [
    "big.seurat <- qread(file=\"1_big.seurat_v2.qs\", nthreads=16)"
   ]
  },
  {
   "cell_type": "code",
   "execution_count": 22,
   "id": "5b874155",
   "metadata": {},
   "outputs": [
    {
     "data": {
      "text/plain": [
       "\n",
       " 16-0012853  16-0015453  16-0035651  16-0060770  16-0062458  17-0023835 \n",
       "        705        3121         181        1730        2715        2417 \n",
       "  17387-05A   17387-07A   17387-12A   17387-14A   17387-18A   17387-20A \n",
       "        877         234        1772        2306        4062        1042 \n",
       "  17387-21A   17387-23A   17387-34A   17387-35A   17387-40A   17387-41A \n",
       "       3467         759        1718        1653        3568        2967 \n",
       "  17387-42A   17387-51A   17387-52A   17387-55A   17387-57A   17387-60A \n",
       "        217        2459         477        2353        1636        1705 \n",
       "  17387-64A   17387-68A   17387-73A   17387-80A   17387-81A   17387-84A \n",
       "       2435        2121        1139        3200        2371        1552 \n",
       "  17387-90A  18-0003513  18-0007107  18-0007119  18-0010033  18-0013087 \n",
       "       2612        1916        1354        2791        1426        1905 \n",
       " 18-0015075  18-0015502  18-0019386  18-0021297  18-0022132  18-0023702 \n",
       "       1128        3979        1957         667         276        3643 \n",
       " 18-0026653  18-0026838  19-0000610  19-0004870  19-0011792  19-0016212 \n",
       "       1250        2472        9503        1315         880        5481 \n",
       " 19-0016739  19-0019883  19-0023125  19-0023420 19-0023592A  19-0026358 \n",
       "       3581        4133        3641        2937        1862        1272 \n",
       " 19-0027486  19-0032047  19-8028436  20-0002737  20-0002786  20-0003838 \n",
       "      21149        2078        2917          70        4781        4532 \n",
       " 20-0004455  20-0010478  20-0016800  20-0017984  20-0021233  20-0021810 \n",
       "       5099         823        1368        3486        2736        3962 \n",
       "    AB--62B      AB-11K      AB-11O      AB-16D      AB-24A      AB-33D \n",
       "       4188        1766        3343        2553        3966        6424 \n",
       "     AB-38A      AB-52A      AB-67A      AB-72A      AB-74A      AB-80A \n",
       "       5618        4141        1407        2025        2502        1904 \n",
       "     AB-82A       AB14C \n",
       "       3805        3949 "
      ]
     },
     "metadata": {},
     "output_type": "display_data"
    }
   ],
   "source": [
    "table(big.seurat$Sample)"
   ]
  },
  {
   "cell_type": "code",
   "execution_count": 23,
   "id": "c63dfb2a",
   "metadata": {},
   "outputs": [
    {
     "data": {
      "text/html": [
       "<table class=\"dataframe\">\n",
       "<caption>A matrix: 2 × 6 of type dbl</caption>\n",
       "<thead>\n",
       "\t<tr><th></th><th scope=col>used</th><th scope=col>(Mb)</th><th scope=col>gc trigger</th><th scope=col>(Mb)</th><th scope=col>max used</th><th scope=col>(Mb)</th></tr>\n",
       "</thead>\n",
       "<tbody>\n",
       "\t<tr><th scope=row>Ncells</th><td>   6305187</td><td>  336.8</td><td>   9674024</td><td>  516.7</td><td>   9674024</td><td>  516.7</td></tr>\n",
       "\t<tr><th scope=row>Vcells</th><td>2137582910</td><td>16308.5</td><td>8125187815</td><td>61990.3</td><td>7511208178</td><td>57306.0</td></tr>\n",
       "</tbody>\n",
       "</table>\n"
      ],
      "text/latex": [
       "A matrix: 2 × 6 of type dbl\n",
       "\\begin{tabular}{r|llllll}\n",
       "  & used & (Mb) & gc trigger & (Mb) & max used & (Mb)\\\\\n",
       "\\hline\n",
       "\tNcells &    6305187 &   336.8 &    9674024 &   516.7 &    9674024 &   516.7\\\\\n",
       "\tVcells & 2137582910 & 16308.5 & 8125187815 & 61990.3 & 7511208178 & 57306.0\\\\\n",
       "\\end{tabular}\n"
      ],
      "text/markdown": [
       "\n",
       "A matrix: 2 × 6 of type dbl\n",
       "\n",
       "| <!--/--> | used | (Mb) | gc trigger | (Mb) | max used | (Mb) |\n",
       "|---|---|---|---|---|---|---|\n",
       "| Ncells |    6305187 |   336.8 |    9674024 |   516.7 |    9674024 |   516.7 |\n",
       "| Vcells | 2137582910 | 16308.5 | 8125187815 | 61990.3 | 7511208178 | 57306.0 |\n",
       "\n"
      ],
      "text/plain": [
       "       used       (Mb)    gc trigger (Mb)    max used   (Mb)   \n",
       "Ncells    6305187   336.8    9674024   516.7    9674024   516.7\n",
       "Vcells 2137582910 16308.5 8125187815 61990.3 7511208178 57306.0"
      ]
     },
     "metadata": {},
     "output_type": "display_data"
    }
   ],
   "source": [
    "#big.seurat <- qread(file=\"1_big.seurat_v2.rds\"); print(\"Done loading\")\n",
    "bs.list <- SplitObject(big.seurat, split.by=\"Sample\")\n",
    "rm(big.seurat)\n",
    "gc()"
   ]
  },
  {
   "cell_type": "code",
   "execution_count": 24,
   "id": "d8940810",
   "metadata": {},
   "outputs": [],
   "source": [
    "bs.list <- mclapply(bs.list, FUN = NormalizeData, normalization.method = \"LogNormalize\",\n",
    "                     scale.factor = 10000, mc.cores = ncores)"
   ]
  },
  {
   "cell_type": "code",
   "execution_count": 25,
   "id": "8821c275",
   "metadata": {},
   "outputs": [],
   "source": [
    "bs.list <- mclapply(bs.list, FUN = FindVariableFeatures, selection.method = \"vst\", nfeatures = 2000, mc.cores = ncores)"
   ]
  },
  {
   "cell_type": "code",
   "execution_count": 5,
   "id": "2385ba6c",
   "metadata": {
    "collapsed": true,
    "jupyter": {
     "outputs_hidden": true
    }
   },
   "outputs": [
    {
     "name": "stderr",
     "output_type": "stream",
     "text": [
      "Centering and scaling data matrix\n",
      "\n",
      "Centering and scaling data matrix\n",
      "\n",
      "Centering and scaling data matrix\n",
      "\n",
      "Centering and scaling data matrix\n",
      "\n",
      "Centering and scaling data matrix\n",
      "\n",
      "Centering and scaling data matrix\n",
      "\n",
      "Centering and scaling data matrix\n",
      "\n",
      "Centering and scaling data matrix\n",
      "\n",
      "Centering and scaling data matrix\n",
      "\n",
      "Centering and scaling data matrix\n",
      "\n",
      "Centering and scaling data matrix\n",
      "\n",
      "Centering and scaling data matrix\n",
      "\n",
      "Centering and scaling data matrix\n",
      "\n",
      "Centering and scaling data matrix\n",
      "\n",
      "Centering and scaling data matrix\n",
      "\n",
      "Centering and scaling data matrix\n",
      "\n",
      "Centering and scaling data matrix\n",
      "\n",
      "Centering and scaling data matrix\n",
      "\n",
      "Centering and scaling data matrix\n",
      "\n",
      "Centering and scaling data matrix\n",
      "\n",
      "Centering and scaling data matrix\n",
      "\n",
      "Centering and scaling data matrix\n",
      "\n",
      "Centering and scaling data matrix\n",
      "\n",
      "Centering and scaling data matrix\n",
      "\n",
      "Centering and scaling data matrix\n",
      "\n",
      "Centering and scaling data matrix\n",
      "\n",
      "Centering and scaling data matrix\n",
      "\n",
      "Centering and scaling data matrix\n",
      "\n",
      "Centering and scaling data matrix\n",
      "\n",
      "Centering and scaling data matrix\n",
      "\n",
      "Centering and scaling data matrix\n",
      "\n",
      "Centering and scaling data matrix\n",
      "\n",
      "Centering and scaling data matrix\n",
      "\n",
      "Centering and scaling data matrix\n",
      "\n",
      "Centering and scaling data matrix\n",
      "\n",
      "Centering and scaling data matrix\n",
      "\n",
      "Centering and scaling data matrix\n",
      "\n",
      "Centering and scaling data matrix\n",
      "\n",
      "Centering and scaling data matrix\n",
      "\n",
      "Centering and scaling data matrix\n",
      "\n",
      "Centering and scaling data matrix\n",
      "\n",
      "Centering and scaling data matrix\n",
      "\n",
      "Centering and scaling data matrix\n",
      "\n",
      "Centering and scaling data matrix\n",
      "\n",
      "Centering and scaling data matrix\n",
      "\n",
      "Centering and scaling data matrix\n",
      "\n",
      "Centering and scaling data matrix\n",
      "\n",
      "Centering and scaling data matrix\n",
      "\n",
      "Centering and scaling data matrix\n",
      "\n",
      "Centering and scaling data matrix\n",
      "\n",
      "Centering and scaling data matrix\n",
      "\n",
      "Centering and scaling data matrix\n",
      "\n",
      "Centering and scaling data matrix\n",
      "\n",
      "Centering and scaling data matrix\n",
      "\n",
      "Centering and scaling data matrix\n",
      "\n",
      "Centering and scaling data matrix\n",
      "\n",
      "Centering and scaling data matrix\n",
      "\n",
      "Centering and scaling data matrix\n",
      "\n",
      "Centering and scaling data matrix\n",
      "\n",
      "Centering and scaling data matrix\n",
      "\n",
      "Centering and scaling data matrix\n",
      "\n",
      "Centering and scaling data matrix\n",
      "\n",
      "Centering and scaling data matrix\n",
      "\n",
      "Centering and scaling data matrix\n",
      "\n",
      "Centering and scaling data matrix\n",
      "\n",
      "Centering and scaling data matrix\n",
      "\n",
      "Centering and scaling data matrix\n",
      "\n",
      "Centering and scaling data matrix\n",
      "\n",
      "Centering and scaling data matrix\n",
      "\n",
      "Centering and scaling data matrix\n",
      "\n",
      "Centering and scaling data matrix\n",
      "\n",
      "Centering and scaling data matrix\n",
      "\n",
      "Centering and scaling data matrix\n",
      "\n",
      "Centering and scaling data matrix\n",
      "\n",
      "Centering and scaling data matrix\n",
      "\n",
      "Centering and scaling data matrix\n",
      "\n",
      "Centering and scaling data matrix\n",
      "\n",
      "Centering and scaling data matrix\n",
      "\n",
      "Centering and scaling data matrix\n",
      "\n",
      "Centering and scaling data matrix\n",
      "\n"
     ]
    }
   ],
   "source": [
    "bs.list <- mclapply(bs.list, FUN = ScaleData, mc.cores = 1)"
   ]
  },
  {
   "cell_type": "code",
   "execution_count": 6,
   "id": "630bc5ea",
   "metadata": {},
   "outputs": [],
   "source": [
    "qsave(bs.list, file=\"2_big.seurat.splitlist.norm_v2.qs\", nthreads=16)"
   ]
  },
  {
   "cell_type": "code",
   "execution_count": 4,
   "id": "a72b84f1",
   "metadata": {},
   "outputs": [],
   "source": [
    "bs.list <- qread(file=\"2_big.seurat.splitlist.norm_v2.qs\", nthreads=16)"
   ]
  },
  {
   "cell_type": "code",
   "execution_count": 7,
   "id": "c9b3cc02",
   "metadata": {},
   "outputs": [
    {
     "name": "stderr",
     "output_type": "stream",
     "text": [
      "Warning message in irlba(A = t(x = object), nv = npcs, ...):\n",
      "“You're computing too large a percentage of total singular values, use a standard svd instead.”\n"
     ]
    }
   ],
   "source": [
    "bs.list <- mclapply(bs.list, FUN=RunPCA, verbose=FALSE, mc.cores=1)"
   ]
  },
  {
   "cell_type": "code",
   "execution_count": 8,
   "id": "632621c8",
   "metadata": {
    "collapsed": true,
    "jupyter": {
     "outputs_hidden": true
    }
   },
   "outputs": [
    {
     "data": {
      "text/plain": [
       "$`AB-24A`\n",
       "\n",
       "$`AB-33D`\n",
       "\n",
       "$`19-0016739`\n",
       "\n",
       "$`AB-74A`\n",
       "\n",
       "$`19-0016212`\n",
       "\n",
       "$`AB-67A`\n",
       "\n",
       "$`AB-82A`\n",
       "\n",
       "$`AB-16D`\n",
       "\n",
       "$`18-0015502`\n",
       "\n",
       "$`AB-52A`\n",
       "\n",
       "$AB14C\n",
       "\n",
       "$`18-0023702`\n",
       "\n",
       "$`17-0023835`\n",
       "\n",
       "$`AB-72A`\n",
       "\n",
       "$`AB-80A`\n",
       "\n",
       "$`19-0032047`\n",
       "\n",
       "$`18-0003513`\n",
       "\n",
       "$`18-0021297`\n",
       "\n",
       "$`20-0010478`\n",
       "\n",
       "$`19-0023125`\n",
       "\n",
       "$`20-0003838`\n",
       "\n",
       "$`20-0017984`\n",
       "\n",
       "$`19-0004870`\n",
       "\n",
       "$`20-0016800`\n",
       "\n",
       "$`20-0004455`\n",
       "\n",
       "$`AB-11O`\n",
       "\n",
       "$`16-0012853`\n",
       "\n",
       "$`18-0010033`\n",
       "\n",
       "$`20-0002786`\n",
       "\n",
       "$`18-0007119`\n",
       "\n",
       "$`AB-38A`\n",
       "\n",
       "$`AB-11K`\n",
       "\n",
       "$`18-0026838`\n",
       "\n",
       "$`18-0026653`\n",
       "\n",
       "$`19-0023420`\n",
       "\n",
       "$`19-0000610`\n",
       "\n",
       "$`18-0013087`\n",
       "\n",
       "$`18-0015075`\n",
       "\n",
       "$`16-0062458`\n",
       "\n",
       "$`20-0021810`\n",
       "\n",
       "$`19-0019883`\n",
       "\n",
       "$`19-0026358`\n",
       "\n",
       "$`AB--62B`\n",
       "\n",
       "$`19-0011792`\n",
       "\n",
       "$`19-0027486`\n",
       "\n",
       "$`20-0021233`\n",
       "\n",
       "$`16-0060770`\n",
       "\n",
       "$`18-0007107`\n",
       "\n",
       "$`19-8028436`\n",
       "\n",
       "$`16-0015453`\n",
       "\n",
       "$`17387-12A`\n",
       "\n",
       "$`17387-52A`\n",
       "\n",
       "$`18-0019386`\n",
       "\n",
       "$`17387-73A`\n",
       "\n",
       "$`17387-81A`\n",
       "\n",
       "$`17387-55A`\n",
       "\n",
       "$`17387-34A`\n",
       "\n",
       "$`17387-40A`\n",
       "\n",
       "$`17387-60A`\n",
       "\n",
       "$`17387-80A`\n",
       "\n",
       "$`17387-05A`\n",
       "\n",
       "$`17387-57A`\n",
       "\n",
       "$`17387-23A`\n",
       "\n",
       "$`17387-21A`\n",
       "\n",
       "$`17387-41A`\n",
       "\n",
       "$`17387-84A`\n",
       "\n",
       "$`17387-64A`\n",
       "\n",
       "$`17387-51A`\n",
       "\n",
       "$`17387-68A`\n",
       "\n",
       "$`19-0023592A`\n",
       "\n",
       "$`17387-20A`\n",
       "\n",
       "$`17387-14A`\n",
       "\n",
       "$`17387-35A`\n",
       "\n",
       "$`17387-90A`\n"
      ]
     },
     "metadata": {},
     "output_type": "display_data"
    },
    {
     "data": {
      "text/html": [
       "<strong>png:</strong> 2"
      ],
      "text/latex": [
       "\\textbf{png:} 2"
      ],
      "text/markdown": [
       "**png:** 2"
      ],
      "text/plain": [
       "png \n",
       "  2 "
      ]
     },
     "metadata": {},
     "output_type": "display_data"
    },
    {
     "data": {
      "text/plain": [
       "$`AB-24A`\n",
       "\n",
       "$`AB-33D`\n",
       "\n",
       "$`19-0016739`\n",
       "\n",
       "$`AB-74A`\n",
       "\n",
       "$`19-0016212`\n",
       "\n",
       "$`AB-67A`\n",
       "\n",
       "$`AB-82A`\n",
       "\n",
       "$`AB-16D`\n",
       "\n",
       "$`18-0015502`\n",
       "\n",
       "$`AB-52A`\n",
       "\n",
       "$AB14C\n",
       "\n",
       "$`18-0023702`\n",
       "\n",
       "$`17-0023835`\n",
       "\n",
       "$`AB-72A`\n",
       "\n",
       "$`AB-80A`\n",
       "\n",
       "$`19-0032047`\n",
       "\n",
       "$`18-0003513`\n",
       "\n",
       "$`18-0021297`\n",
       "\n",
       "$`20-0010478`\n",
       "\n",
       "$`19-0023125`\n",
       "\n",
       "$`20-0003838`\n",
       "\n",
       "$`20-0017984`\n",
       "\n",
       "$`19-0004870`\n",
       "\n",
       "$`20-0016800`\n",
       "\n",
       "$`20-0004455`\n",
       "\n",
       "$`AB-11O`\n",
       "\n",
       "$`16-0012853`\n",
       "\n",
       "$`18-0010033`\n",
       "\n",
       "$`20-0002786`\n",
       "\n",
       "$`18-0007119`\n",
       "\n",
       "$`AB-38A`\n",
       "\n",
       "$`AB-11K`\n",
       "\n",
       "$`18-0026838`\n",
       "\n",
       "$`18-0026653`\n",
       "\n",
       "$`19-0023420`\n",
       "\n",
       "$`19-0000610`\n",
       "\n",
       "$`18-0013087`\n",
       "\n",
       "$`18-0015075`\n",
       "\n",
       "$`16-0062458`\n",
       "\n",
       "$`20-0021810`\n",
       "\n",
       "$`19-0019883`\n",
       "\n",
       "$`19-0026358`\n",
       "\n",
       "$`AB--62B`\n",
       "\n",
       "$`19-0011792`\n",
       "\n",
       "$`19-0027486`\n",
       "\n",
       "$`20-0021233`\n",
       "\n",
       "$`16-0060770`\n",
       "\n",
       "$`18-0007107`\n",
       "\n",
       "$`19-8028436`\n",
       "\n",
       "$`16-0015453`\n",
       "\n",
       "$`17387-12A`\n",
       "\n",
       "$`17387-52A`\n",
       "\n",
       "$`18-0019386`\n",
       "\n",
       "$`17387-73A`\n",
       "\n",
       "$`17387-81A`\n",
       "\n",
       "$`17387-55A`\n",
       "\n",
       "$`17387-34A`\n",
       "\n",
       "$`17387-40A`\n",
       "\n",
       "$`17387-60A`\n",
       "\n",
       "$`17387-80A`\n",
       "\n",
       "$`17387-05A`\n",
       "\n",
       "$`17387-57A`\n",
       "\n",
       "$`17387-23A`\n",
       "\n",
       "$`17387-21A`\n",
       "\n",
       "$`17387-41A`\n",
       "\n",
       "$`17387-84A`\n",
       "\n",
       "$`17387-64A`\n",
       "\n",
       "$`17387-51A`\n",
       "\n",
       "$`17387-68A`\n",
       "\n",
       "$`19-0023592A`\n",
       "\n",
       "$`17387-20A`\n",
       "\n",
       "$`17387-14A`\n",
       "\n",
       "$`17387-35A`\n",
       "\n",
       "$`17387-90A`\n"
      ]
     },
     "metadata": {},
     "output_type": "display_data"
    },
    {
     "data": {
      "text/html": [
       "<strong>png:</strong> 2"
      ],
      "text/latex": [
       "\\textbf{png:} 2"
      ],
      "text/markdown": [
       "**png:** 2"
      ],
      "text/plain": [
       "png \n",
       "  2 "
      ]
     },
     "metadata": {},
     "output_type": "display_data"
    },
    {
     "data": {
      "text/plain": [
       "$`AB-24A`\n",
       "\n",
       "$`AB-33D`\n",
       "\n",
       "$`19-0016739`\n",
       "\n",
       "$`AB-74A`\n",
       "\n",
       "$`19-0016212`\n",
       "\n",
       "$`AB-67A`\n",
       "\n",
       "$`AB-82A`\n",
       "\n",
       "$`AB-16D`\n",
       "\n",
       "$`18-0015502`\n",
       "\n",
       "$`AB-52A`\n",
       "\n",
       "$AB14C\n",
       "\n",
       "$`18-0023702`\n",
       "\n",
       "$`17-0023835`\n",
       "\n",
       "$`AB-72A`\n",
       "\n",
       "$`AB-80A`\n",
       "\n",
       "$`19-0032047`\n",
       "\n",
       "$`18-0003513`\n",
       "\n",
       "$`18-0021297`\n",
       "\n",
       "$`20-0010478`\n",
       "\n",
       "$`19-0023125`\n",
       "\n",
       "$`20-0003838`\n",
       "\n",
       "$`20-0017984`\n",
       "\n",
       "$`19-0004870`\n",
       "\n",
       "$`20-0016800`\n",
       "\n",
       "$`20-0004455`\n",
       "\n",
       "$`AB-11O`\n",
       "\n",
       "$`16-0012853`\n",
       "\n",
       "$`18-0010033`\n",
       "\n",
       "$`20-0002786`\n",
       "\n",
       "$`18-0007119`\n",
       "\n",
       "$`AB-38A`\n",
       "\n",
       "$`AB-11K`\n",
       "\n",
       "$`18-0026838`\n",
       "\n",
       "$`18-0026653`\n",
       "\n",
       "$`19-0023420`\n",
       "\n",
       "$`19-0000610`\n",
       "\n",
       "$`18-0013087`\n",
       "\n",
       "$`18-0015075`\n",
       "\n",
       "$`16-0062458`\n",
       "\n",
       "$`20-0021810`\n",
       "\n",
       "$`19-0019883`\n",
       "\n",
       "$`19-0026358`\n",
       "\n",
       "$`AB--62B`\n",
       "\n",
       "$`19-0011792`\n",
       "\n",
       "$`19-0027486`\n",
       "\n",
       "$`20-0021233`\n",
       "\n",
       "$`16-0060770`\n",
       "\n",
       "$`18-0007107`\n",
       "\n",
       "$`19-8028436`\n",
       "\n",
       "$`16-0015453`\n",
       "\n",
       "$`17387-12A`\n",
       "\n",
       "$`17387-52A`\n",
       "\n",
       "$`18-0019386`\n",
       "\n",
       "$`17387-73A`\n",
       "\n",
       "$`17387-81A`\n",
       "\n",
       "$`17387-55A`\n",
       "\n",
       "$`17387-34A`\n",
       "\n",
       "$`17387-40A`\n",
       "\n",
       "$`17387-60A`\n",
       "\n",
       "$`17387-80A`\n",
       "\n",
       "$`17387-05A`\n",
       "\n",
       "$`17387-57A`\n",
       "\n",
       "$`17387-23A`\n",
       "\n",
       "$`17387-21A`\n",
       "\n",
       "$`17387-41A`\n",
       "\n",
       "$`17387-84A`\n",
       "\n",
       "$`17387-64A`\n",
       "\n",
       "$`17387-51A`\n",
       "\n",
       "$`17387-68A`\n",
       "\n",
       "$`19-0023592A`\n",
       "\n",
       "$`17387-20A`\n",
       "\n",
       "$`17387-14A`\n",
       "\n",
       "$`17387-35A`\n",
       "\n",
       "$`17387-90A`\n"
      ]
     },
     "metadata": {},
     "output_type": "display_data"
    },
    {
     "data": {
      "text/html": [
       "<strong>png:</strong> 2"
      ],
      "text/latex": [
       "\\textbf{png:} 2"
      ],
      "text/markdown": [
       "**png:** 2"
      ],
      "text/plain": [
       "png \n",
       "  2 "
      ]
     },
     "metadata": {},
     "output_type": "display_data"
    }
   ],
   "source": [
    "pdf(\"Figures/Big.seurat_split_lapply_ElbowPlot.pdf\", height=4, width=4)\n",
    "lapply(X=bs.list, FUN=ElbowPlot, 50)\n",
    "dev.off()\n",
    "\n",
    "pdf(\"Figures/Big.seurat_split_lapply_PCAPlot.pdf\", height=4, width=4)\n",
    "lapply(X=bs.list, FUN=DimPlot)\n",
    "dev.off()\n",
    "\n",
    "pdf(\"Figures/Big.seurat_split_lapply_VlnPlot.pdf\", height=4, width=10)\n",
    "lapply(X=bs.list, FUN=VlnPlot, features = c(\"nFeature_RNA\", \"nCount_RNA\", \"Percent.Mitochondria\"), \n",
    "       ncol = 3, pt.size=0.25, assay='SCT')\n",
    "dev.off()"
   ]
  },
  {
   "cell_type": "code",
   "execution_count": 8,
   "id": "bbe97a89",
   "metadata": {},
   "outputs": [],
   "source": [
    "bs.list <- mclapply(bs.list, FUN=FindNeighbors, reduction = \"pca\", dims = 1:50, nn.eps = 0.5, verbose=FALSE, mc.cores=1)"
   ]
  },
  {
   "cell_type": "code",
   "execution_count": 10,
   "id": "f5533b0b",
   "metadata": {
    "collapsed": true,
    "jupyter": {
     "outputs_hidden": true
    }
   },
   "outputs": [
    {
     "name": "stderr",
     "output_type": "stream",
     "text": [
      "Warning message:\n",
      "“UNRELIABLE VALUE: One of the ‘future.apply’ iterations (‘future_lapply-1’) unexpectedly generated random numbers without declaring so. There is a risk that those random numbers are not statistically sound and the overall results might be invalid. To fix this, specify 'future.seed=TRUE'. This ensures that proper, parallel-safe random numbers are produced via the L'Ecuyer-CMRG method. To disable this check, use 'future.seed = NULL', or set option 'future.rng.onMisuse' to \"ignore\".”\n",
      "Warning message:\n",
      "“UNRELIABLE VALUE: One of the ‘future.apply’ iterations (‘future_lapply-1’) unexpectedly generated random numbers without declaring so. There is a risk that those random numbers are not statistically sound and the overall results might be invalid. To fix this, specify 'future.seed=TRUE'. This ensures that proper, parallel-safe random numbers are produced via the L'Ecuyer-CMRG method. To disable this check, use 'future.seed = NULL', or set option 'future.rng.onMisuse' to \"ignore\".”\n",
      "Warning message:\n",
      "“UNRELIABLE VALUE: One of the ‘future.apply’ iterations (‘future_lapply-1’) unexpectedly generated random numbers without declaring so. There is a risk that those random numbers are not statistically sound and the overall results might be invalid. To fix this, specify 'future.seed=TRUE'. This ensures that proper, parallel-safe random numbers are produced via the L'Ecuyer-CMRG method. To disable this check, use 'future.seed = NULL', or set option 'future.rng.onMisuse' to \"ignore\".”\n",
      "Warning message:\n",
      "“UNRELIABLE VALUE: One of the ‘future.apply’ iterations (‘future_lapply-1’) unexpectedly generated random numbers without declaring so. There is a risk that those random numbers are not statistically sound and the overall results might be invalid. To fix this, specify 'future.seed=TRUE'. This ensures that proper, parallel-safe random numbers are produced via the L'Ecuyer-CMRG method. To disable this check, use 'future.seed = NULL', or set option 'future.rng.onMisuse' to \"ignore\".”\n",
      "Warning message:\n",
      "“UNRELIABLE VALUE: One of the ‘future.apply’ iterations (‘future_lapply-1’) unexpectedly generated random numbers without declaring so. There is a risk that those random numbers are not statistically sound and the overall results might be invalid. To fix this, specify 'future.seed=TRUE'. This ensures that proper, parallel-safe random numbers are produced via the L'Ecuyer-CMRG method. To disable this check, use 'future.seed = NULL', or set option 'future.rng.onMisuse' to \"ignore\".”\n",
      "Warning message:\n",
      "“UNRELIABLE VALUE: One of the ‘future.apply’ iterations (‘future_lapply-1’) unexpectedly generated random numbers without declaring so. There is a risk that those random numbers are not statistically sound and the overall results might be invalid. To fix this, specify 'future.seed=TRUE'. This ensures that proper, parallel-safe random numbers are produced via the L'Ecuyer-CMRG method. To disable this check, use 'future.seed = NULL', or set option 'future.rng.onMisuse' to \"ignore\".”\n",
      "Warning message:\n",
      "“UNRELIABLE VALUE: One of the ‘future.apply’ iterations (‘future_lapply-1’) unexpectedly generated random numbers without declaring so. There is a risk that those random numbers are not statistically sound and the overall results might be invalid. To fix this, specify 'future.seed=TRUE'. This ensures that proper, parallel-safe random numbers are produced via the L'Ecuyer-CMRG method. To disable this check, use 'future.seed = NULL', or set option 'future.rng.onMisuse' to \"ignore\".”\n",
      "Warning message:\n",
      "“UNRELIABLE VALUE: One of the ‘future.apply’ iterations (‘future_lapply-1’) unexpectedly generated random numbers without declaring so. There is a risk that those random numbers are not statistically sound and the overall results might be invalid. To fix this, specify 'future.seed=TRUE'. This ensures that proper, parallel-safe random numbers are produced via the L'Ecuyer-CMRG method. To disable this check, use 'future.seed = NULL', or set option 'future.rng.onMisuse' to \"ignore\".”\n",
      "Warning message:\n",
      "“UNRELIABLE VALUE: One of the ‘future.apply’ iterations (‘future_lapply-1’) unexpectedly generated random numbers without declaring so. There is a risk that those random numbers are not statistically sound and the overall results might be invalid. To fix this, specify 'future.seed=TRUE'. This ensures that proper, parallel-safe random numbers are produced via the L'Ecuyer-CMRG method. To disable this check, use 'future.seed = NULL', or set option 'future.rng.onMisuse' to \"ignore\".”\n",
      "Warning message:\n",
      "“UNRELIABLE VALUE: One of the ‘future.apply’ iterations (‘future_lapply-1’) unexpectedly generated random numbers without declaring so. There is a risk that those random numbers are not statistically sound and the overall results might be invalid. To fix this, specify 'future.seed=TRUE'. This ensures that proper, parallel-safe random numbers are produced via the L'Ecuyer-CMRG method. To disable this check, use 'future.seed = NULL', or set option 'future.rng.onMisuse' to \"ignore\".”\n",
      "Warning message:\n",
      "“UNRELIABLE VALUE: One of the ‘future.apply’ iterations (‘future_lapply-1’) unexpectedly generated random numbers without declaring so. There is a risk that those random numbers are not statistically sound and the overall results might be invalid. To fix this, specify 'future.seed=TRUE'. This ensures that proper, parallel-safe random numbers are produced via the L'Ecuyer-CMRG method. To disable this check, use 'future.seed = NULL', or set option 'future.rng.onMisuse' to \"ignore\".”\n",
      "Warning message:\n",
      "“UNRELIABLE VALUE: One of the ‘future.apply’ iterations (‘future_lapply-1’) unexpectedly generated random numbers without declaring so. There is a risk that those random numbers are not statistically sound and the overall results might be invalid. To fix this, specify 'future.seed=TRUE'. This ensures that proper, parallel-safe random numbers are produced via the L'Ecuyer-CMRG method. To disable this check, use 'future.seed = NULL', or set option 'future.rng.onMisuse' to \"ignore\".”\n",
      "Warning message:\n",
      "“UNRELIABLE VALUE: One of the ‘future.apply’ iterations (‘future_lapply-1’) unexpectedly generated random numbers without declaring so. There is a risk that those random numbers are not statistically sound and the overall results might be invalid. To fix this, specify 'future.seed=TRUE'. This ensures that proper, parallel-safe random numbers are produced via the L'Ecuyer-CMRG method. To disable this check, use 'future.seed = NULL', or set option 'future.rng.onMisuse' to \"ignore\".”\n",
      "Warning message:\n",
      "“UNRELIABLE VALUE: One of the ‘future.apply’ iterations (‘future_lapply-1’) unexpectedly generated random numbers without declaring so. There is a risk that those random numbers are not statistically sound and the overall results might be invalid. To fix this, specify 'future.seed=TRUE'. This ensures that proper, parallel-safe random numbers are produced via the L'Ecuyer-CMRG method. To disable this check, use 'future.seed = NULL', or set option 'future.rng.onMisuse' to \"ignore\".”\n",
      "Warning message:\n",
      "“UNRELIABLE VALUE: One of the ‘future.apply’ iterations (‘future_lapply-1’) unexpectedly generated random numbers without declaring so. There is a risk that those random numbers are not statistically sound and the overall results might be invalid. To fix this, specify 'future.seed=TRUE'. This ensures that proper, parallel-safe random numbers are produced via the L'Ecuyer-CMRG method. To disable this check, use 'future.seed = NULL', or set option 'future.rng.onMisuse' to \"ignore\".”\n",
      "Warning message:\n",
      "“UNRELIABLE VALUE: One of the ‘future.apply’ iterations (‘future_lapply-1’) unexpectedly generated random numbers without declaring so. There is a risk that those random numbers are not statistically sound and the overall results might be invalid. To fix this, specify 'future.seed=TRUE'. This ensures that proper, parallel-safe random numbers are produced via the L'Ecuyer-CMRG method. To disable this check, use 'future.seed = NULL', or set option 'future.rng.onMisuse' to \"ignore\".”\n",
      "Warning message:\n",
      "“UNRELIABLE VALUE: One of the ‘future.apply’ iterations (‘future_lapply-1’) unexpectedly generated random numbers without declaring so. There is a risk that those random numbers are not statistically sound and the overall results might be invalid. To fix this, specify 'future.seed=TRUE'. This ensures that proper, parallel-safe random numbers are produced via the L'Ecuyer-CMRG method. To disable this check, use 'future.seed = NULL', or set option 'future.rng.onMisuse' to \"ignore\".”\n",
      "Warning message:\n",
      "“UNRELIABLE VALUE: One of the ‘future.apply’ iterations (‘future_lapply-1’) unexpectedly generated random numbers without declaring so. There is a risk that those random numbers are not statistically sound and the overall results might be invalid. To fix this, specify 'future.seed=TRUE'. This ensures that proper, parallel-safe random numbers are produced via the L'Ecuyer-CMRG method. To disable this check, use 'future.seed = NULL', or set option 'future.rng.onMisuse' to \"ignore\".”\n",
      "Warning message:\n",
      "“UNRELIABLE VALUE: One of the ‘future.apply’ iterations (‘future_lapply-1’) unexpectedly generated random numbers without declaring so. There is a risk that those random numbers are not statistically sound and the overall results might be invalid. To fix this, specify 'future.seed=TRUE'. This ensures that proper, parallel-safe random numbers are produced via the L'Ecuyer-CMRG method. To disable this check, use 'future.seed = NULL', or set option 'future.rng.onMisuse' to \"ignore\".”\n",
      "Warning message:\n",
      "“UNRELIABLE VALUE: One of the ‘future.apply’ iterations (‘future_lapply-1’) unexpectedly generated random numbers without declaring so. There is a risk that those random numbers are not statistically sound and the overall results might be invalid. To fix this, specify 'future.seed=TRUE'. This ensures that proper, parallel-safe random numbers are produced via the L'Ecuyer-CMRG method. To disable this check, use 'future.seed = NULL', or set option 'future.rng.onMisuse' to \"ignore\".”\n",
      "Warning message:\n",
      "“UNRELIABLE VALUE: One of the ‘future.apply’ iterations (‘future_lapply-1’) unexpectedly generated random numbers without declaring so. There is a risk that those random numbers are not statistically sound and the overall results might be invalid. To fix this, specify 'future.seed=TRUE'. This ensures that proper, parallel-safe random numbers are produced via the L'Ecuyer-CMRG method. To disable this check, use 'future.seed = NULL', or set option 'future.rng.onMisuse' to \"ignore\".”\n",
      "Warning message:\n",
      "“UNRELIABLE VALUE: One of the ‘future.apply’ iterations (‘future_lapply-1’) unexpectedly generated random numbers without declaring so. There is a risk that those random numbers are not statistically sound and the overall results might be invalid. To fix this, specify 'future.seed=TRUE'. This ensures that proper, parallel-safe random numbers are produced via the L'Ecuyer-CMRG method. To disable this check, use 'future.seed = NULL', or set option 'future.rng.onMisuse' to \"ignore\".”\n",
      "Warning message:\n",
      "“UNRELIABLE VALUE: One of the ‘future.apply’ iterations (‘future_lapply-1’) unexpectedly generated random numbers without declaring so. There is a risk that those random numbers are not statistically sound and the overall results might be invalid. To fix this, specify 'future.seed=TRUE'. This ensures that proper, parallel-safe random numbers are produced via the L'Ecuyer-CMRG method. To disable this check, use 'future.seed = NULL', or set option 'future.rng.onMisuse' to \"ignore\".”\n",
      "Warning message:\n",
      "“UNRELIABLE VALUE: One of the ‘future.apply’ iterations (‘future_lapply-1’) unexpectedly generated random numbers without declaring so. There is a risk that those random numbers are not statistically sound and the overall results might be invalid. To fix this, specify 'future.seed=TRUE'. This ensures that proper, parallel-safe random numbers are produced via the L'Ecuyer-CMRG method. To disable this check, use 'future.seed = NULL', or set option 'future.rng.onMisuse' to \"ignore\".”\n",
      "Warning message:\n",
      "“UNRELIABLE VALUE: One of the ‘future.apply’ iterations (‘future_lapply-1’) unexpectedly generated random numbers without declaring so. There is a risk that those random numbers are not statistically sound and the overall results might be invalid. To fix this, specify 'future.seed=TRUE'. This ensures that proper, parallel-safe random numbers are produced via the L'Ecuyer-CMRG method. To disable this check, use 'future.seed = NULL', or set option 'future.rng.onMisuse' to \"ignore\".”\n",
      "Warning message:\n",
      "“UNRELIABLE VALUE: One of the ‘future.apply’ iterations (‘future_lapply-1’) unexpectedly generated random numbers without declaring so. There is a risk that those random numbers are not statistically sound and the overall results might be invalid. To fix this, specify 'future.seed=TRUE'. This ensures that proper, parallel-safe random numbers are produced via the L'Ecuyer-CMRG method. To disable this check, use 'future.seed = NULL', or set option 'future.rng.onMisuse' to \"ignore\".”\n",
      "Warning message:\n",
      "“UNRELIABLE VALUE: One of the ‘future.apply’ iterations (‘future_lapply-1’) unexpectedly generated random numbers without declaring so. There is a risk that those random numbers are not statistically sound and the overall results might be invalid. To fix this, specify 'future.seed=TRUE'. This ensures that proper, parallel-safe random numbers are produced via the L'Ecuyer-CMRG method. To disable this check, use 'future.seed = NULL', or set option 'future.rng.onMisuse' to \"ignore\".”\n",
      "Warning message:\n",
      "“UNRELIABLE VALUE: One of the ‘future.apply’ iterations (‘future_lapply-1’) unexpectedly generated random numbers without declaring so. There is a risk that those random numbers are not statistically sound and the overall results might be invalid. To fix this, specify 'future.seed=TRUE'. This ensures that proper, parallel-safe random numbers are produced via the L'Ecuyer-CMRG method. To disable this check, use 'future.seed = NULL', or set option 'future.rng.onMisuse' to \"ignore\".”\n",
      "Warning message:\n",
      "“UNRELIABLE VALUE: One of the ‘future.apply’ iterations (‘future_lapply-1’) unexpectedly generated random numbers without declaring so. There is a risk that those random numbers are not statistically sound and the overall results might be invalid. To fix this, specify 'future.seed=TRUE'. This ensures that proper, parallel-safe random numbers are produced via the L'Ecuyer-CMRG method. To disable this check, use 'future.seed = NULL', or set option 'future.rng.onMisuse' to \"ignore\".”\n",
      "Warning message:\n",
      "“UNRELIABLE VALUE: One of the ‘future.apply’ iterations (‘future_lapply-1’) unexpectedly generated random numbers without declaring so. There is a risk that those random numbers are not statistically sound and the overall results might be invalid. To fix this, specify 'future.seed=TRUE'. This ensures that proper, parallel-safe random numbers are produced via the L'Ecuyer-CMRG method. To disable this check, use 'future.seed = NULL', or set option 'future.rng.onMisuse' to \"ignore\".”\n",
      "Warning message:\n",
      "“UNRELIABLE VALUE: One of the ‘future.apply’ iterations (‘future_lapply-1’) unexpectedly generated random numbers without declaring so. There is a risk that those random numbers are not statistically sound and the overall results might be invalid. To fix this, specify 'future.seed=TRUE'. This ensures that proper, parallel-safe random numbers are produced via the L'Ecuyer-CMRG method. To disable this check, use 'future.seed = NULL', or set option 'future.rng.onMisuse' to \"ignore\".”\n",
      "Warning message:\n",
      "“UNRELIABLE VALUE: One of the ‘future.apply’ iterations (‘future_lapply-1’) unexpectedly generated random numbers without declaring so. There is a risk that those random numbers are not statistically sound and the overall results might be invalid. To fix this, specify 'future.seed=TRUE'. This ensures that proper, parallel-safe random numbers are produced via the L'Ecuyer-CMRG method. To disable this check, use 'future.seed = NULL', or set option 'future.rng.onMisuse' to \"ignore\".”\n",
      "Warning message:\n",
      "“UNRELIABLE VALUE: One of the ‘future.apply’ iterations (‘future_lapply-1’) unexpectedly generated random numbers without declaring so. There is a risk that those random numbers are not statistically sound and the overall results might be invalid. To fix this, specify 'future.seed=TRUE'. This ensures that proper, parallel-safe random numbers are produced via the L'Ecuyer-CMRG method. To disable this check, use 'future.seed = NULL', or set option 'future.rng.onMisuse' to \"ignore\".”\n",
      "Warning message:\n",
      "“UNRELIABLE VALUE: One of the ‘future.apply’ iterations (‘future_lapply-1’) unexpectedly generated random numbers without declaring so. There is a risk that those random numbers are not statistically sound and the overall results might be invalid. To fix this, specify 'future.seed=TRUE'. This ensures that proper, parallel-safe random numbers are produced via the L'Ecuyer-CMRG method. To disable this check, use 'future.seed = NULL', or set option 'future.rng.onMisuse' to \"ignore\".”\n",
      "Warning message:\n",
      "“UNRELIABLE VALUE: One of the ‘future.apply’ iterations (‘future_lapply-1’) unexpectedly generated random numbers without declaring so. There is a risk that those random numbers are not statistically sound and the overall results might be invalid. To fix this, specify 'future.seed=TRUE'. This ensures that proper, parallel-safe random numbers are produced via the L'Ecuyer-CMRG method. To disable this check, use 'future.seed = NULL', or set option 'future.rng.onMisuse' to \"ignore\".”\n",
      "Warning message:\n",
      "“UNRELIABLE VALUE: One of the ‘future.apply’ iterations (‘future_lapply-1’) unexpectedly generated random numbers without declaring so. There is a risk that those random numbers are not statistically sound and the overall results might be invalid. To fix this, specify 'future.seed=TRUE'. This ensures that proper, parallel-safe random numbers are produced via the L'Ecuyer-CMRG method. To disable this check, use 'future.seed = NULL', or set option 'future.rng.onMisuse' to \"ignore\".”\n",
      "Warning message:\n",
      "“UNRELIABLE VALUE: One of the ‘future.apply’ iterations (‘future_lapply-1’) unexpectedly generated random numbers without declaring so. There is a risk that those random numbers are not statistically sound and the overall results might be invalid. To fix this, specify 'future.seed=TRUE'. This ensures that proper, parallel-safe random numbers are produced via the L'Ecuyer-CMRG method. To disable this check, use 'future.seed = NULL', or set option 'future.rng.onMisuse' to \"ignore\".”\n",
      "Warning message:\n",
      "“UNRELIABLE VALUE: One of the ‘future.apply’ iterations (‘future_lapply-1’) unexpectedly generated random numbers without declaring so. There is a risk that those random numbers are not statistically sound and the overall results might be invalid. To fix this, specify 'future.seed=TRUE'. This ensures that proper, parallel-safe random numbers are produced via the L'Ecuyer-CMRG method. To disable this check, use 'future.seed = NULL', or set option 'future.rng.onMisuse' to \"ignore\".”\n",
      "Warning message:\n",
      "“UNRELIABLE VALUE: One of the ‘future.apply’ iterations (‘future_lapply-1’) unexpectedly generated random numbers without declaring so. There is a risk that those random numbers are not statistically sound and the overall results might be invalid. To fix this, specify 'future.seed=TRUE'. This ensures that proper, parallel-safe random numbers are produced via the L'Ecuyer-CMRG method. To disable this check, use 'future.seed = NULL', or set option 'future.rng.onMisuse' to \"ignore\".”\n",
      "Warning message:\n",
      "“UNRELIABLE VALUE: One of the ‘future.apply’ iterations (‘future_lapply-1’) unexpectedly generated random numbers without declaring so. There is a risk that those random numbers are not statistically sound and the overall results might be invalid. To fix this, specify 'future.seed=TRUE'. This ensures that proper, parallel-safe random numbers are produced via the L'Ecuyer-CMRG method. To disable this check, use 'future.seed = NULL', or set option 'future.rng.onMisuse' to \"ignore\".”\n",
      "Warning message:\n",
      "“UNRELIABLE VALUE: One of the ‘future.apply’ iterations (‘future_lapply-1’) unexpectedly generated random numbers without declaring so. There is a risk that those random numbers are not statistically sound and the overall results might be invalid. To fix this, specify 'future.seed=TRUE'. This ensures that proper, parallel-safe random numbers are produced via the L'Ecuyer-CMRG method. To disable this check, use 'future.seed = NULL', or set option 'future.rng.onMisuse' to \"ignore\".”\n",
      "Warning message:\n",
      "“UNRELIABLE VALUE: One of the ‘future.apply’ iterations (‘future_lapply-1’) unexpectedly generated random numbers without declaring so. There is a risk that those random numbers are not statistically sound and the overall results might be invalid. To fix this, specify 'future.seed=TRUE'. This ensures that proper, parallel-safe random numbers are produced via the L'Ecuyer-CMRG method. To disable this check, use 'future.seed = NULL', or set option 'future.rng.onMisuse' to \"ignore\".”\n",
      "Warning message:\n",
      "“UNRELIABLE VALUE: One of the ‘future.apply’ iterations (‘future_lapply-1’) unexpectedly generated random numbers without declaring so. There is a risk that those random numbers are not statistically sound and the overall results might be invalid. To fix this, specify 'future.seed=TRUE'. This ensures that proper, parallel-safe random numbers are produced via the L'Ecuyer-CMRG method. To disable this check, use 'future.seed = NULL', or set option 'future.rng.onMisuse' to \"ignore\".”\n",
      "Warning message:\n",
      "“UNRELIABLE VALUE: One of the ‘future.apply’ iterations (‘future_lapply-1’) unexpectedly generated random numbers without declaring so. There is a risk that those random numbers are not statistically sound and the overall results might be invalid. To fix this, specify 'future.seed=TRUE'. This ensures that proper, parallel-safe random numbers are produced via the L'Ecuyer-CMRG method. To disable this check, use 'future.seed = NULL', or set option 'future.rng.onMisuse' to \"ignore\".”\n",
      "Warning message:\n",
      "“UNRELIABLE VALUE: One of the ‘future.apply’ iterations (‘future_lapply-1’) unexpectedly generated random numbers without declaring so. There is a risk that those random numbers are not statistically sound and the overall results might be invalid. To fix this, specify 'future.seed=TRUE'. This ensures that proper, parallel-safe random numbers are produced via the L'Ecuyer-CMRG method. To disable this check, use 'future.seed = NULL', or set option 'future.rng.onMisuse' to \"ignore\".”\n",
      "Warning message:\n",
      "“UNRELIABLE VALUE: One of the ‘future.apply’ iterations (‘future_lapply-1’) unexpectedly generated random numbers without declaring so. There is a risk that those random numbers are not statistically sound and the overall results might be invalid. To fix this, specify 'future.seed=TRUE'. This ensures that proper, parallel-safe random numbers are produced via the L'Ecuyer-CMRG method. To disable this check, use 'future.seed = NULL', or set option 'future.rng.onMisuse' to \"ignore\".”\n",
      "Warning message:\n",
      "“UNRELIABLE VALUE: One of the ‘future.apply’ iterations (‘future_lapply-1’) unexpectedly generated random numbers without declaring so. There is a risk that those random numbers are not statistically sound and the overall results might be invalid. To fix this, specify 'future.seed=TRUE'. This ensures that proper, parallel-safe random numbers are produced via the L'Ecuyer-CMRG method. To disable this check, use 'future.seed = NULL', or set option 'future.rng.onMisuse' to \"ignore\".”\n",
      "Warning message:\n",
      "“UNRELIABLE VALUE: One of the ‘future.apply’ iterations (‘future_lapply-1’) unexpectedly generated random numbers without declaring so. There is a risk that those random numbers are not statistically sound and the overall results might be invalid. To fix this, specify 'future.seed=TRUE'. This ensures that proper, parallel-safe random numbers are produced via the L'Ecuyer-CMRG method. To disable this check, use 'future.seed = NULL', or set option 'future.rng.onMisuse' to \"ignore\".”\n",
      "Warning message:\n",
      "“UNRELIABLE VALUE: One of the ‘future.apply’ iterations (‘future_lapply-1’) unexpectedly generated random numbers without declaring so. There is a risk that those random numbers are not statistically sound and the overall results might be invalid. To fix this, specify 'future.seed=TRUE'. This ensures that proper, parallel-safe random numbers are produced via the L'Ecuyer-CMRG method. To disable this check, use 'future.seed = NULL', or set option 'future.rng.onMisuse' to \"ignore\".”\n",
      "Warning message:\n",
      "“UNRELIABLE VALUE: One of the ‘future.apply’ iterations (‘future_lapply-1’) unexpectedly generated random numbers without declaring so. There is a risk that those random numbers are not statistically sound and the overall results might be invalid. To fix this, specify 'future.seed=TRUE'. This ensures that proper, parallel-safe random numbers are produced via the L'Ecuyer-CMRG method. To disable this check, use 'future.seed = NULL', or set option 'future.rng.onMisuse' to \"ignore\".”\n",
      "Warning message:\n",
      "“UNRELIABLE VALUE: One of the ‘future.apply’ iterations (‘future_lapply-1’) unexpectedly generated random numbers without declaring so. There is a risk that those random numbers are not statistically sound and the overall results might be invalid. To fix this, specify 'future.seed=TRUE'. This ensures that proper, parallel-safe random numbers are produced via the L'Ecuyer-CMRG method. To disable this check, use 'future.seed = NULL', or set option 'future.rng.onMisuse' to \"ignore\".”\n",
      "Warning message:\n",
      "“UNRELIABLE VALUE: One of the ‘future.apply’ iterations (‘future_lapply-1’) unexpectedly generated random numbers without declaring so. There is a risk that those random numbers are not statistically sound and the overall results might be invalid. To fix this, specify 'future.seed=TRUE'. This ensures that proper, parallel-safe random numbers are produced via the L'Ecuyer-CMRG method. To disable this check, use 'future.seed = NULL', or set option 'future.rng.onMisuse' to \"ignore\".”\n",
      "Warning message:\n",
      "“UNRELIABLE VALUE: One of the ‘future.apply’ iterations (‘future_lapply-1’) unexpectedly generated random numbers without declaring so. There is a risk that those random numbers are not statistically sound and the overall results might be invalid. To fix this, specify 'future.seed=TRUE'. This ensures that proper, parallel-safe random numbers are produced via the L'Ecuyer-CMRG method. To disable this check, use 'future.seed = NULL', or set option 'future.rng.onMisuse' to \"ignore\".”\n",
      "Warning message:\n",
      "“UNRELIABLE VALUE: One of the ‘future.apply’ iterations (‘future_lapply-1’) unexpectedly generated random numbers without declaring so. There is a risk that those random numbers are not statistically sound and the overall results might be invalid. To fix this, specify 'future.seed=TRUE'. This ensures that proper, parallel-safe random numbers are produced via the L'Ecuyer-CMRG method. To disable this check, use 'future.seed = NULL', or set option 'future.rng.onMisuse' to \"ignore\".”\n",
      "Warning message:\n",
      "“UNRELIABLE VALUE: One of the ‘future.apply’ iterations (‘future_lapply-1’) unexpectedly generated random numbers without declaring so. There is a risk that those random numbers are not statistically sound and the overall results might be invalid. To fix this, specify 'future.seed=TRUE'. This ensures that proper, parallel-safe random numbers are produced via the L'Ecuyer-CMRG method. To disable this check, use 'future.seed = NULL', or set option 'future.rng.onMisuse' to \"ignore\".”\n",
      "Warning message:\n",
      "“UNRELIABLE VALUE: One of the ‘future.apply’ iterations (‘future_lapply-1’) unexpectedly generated random numbers without declaring so. There is a risk that those random numbers are not statistically sound and the overall results might be invalid. To fix this, specify 'future.seed=TRUE'. This ensures that proper, parallel-safe random numbers are produced via the L'Ecuyer-CMRG method. To disable this check, use 'future.seed = NULL', or set option 'future.rng.onMisuse' to \"ignore\".”\n",
      "Warning message:\n",
      "“UNRELIABLE VALUE: One of the ‘future.apply’ iterations (‘future_lapply-1’) unexpectedly generated random numbers without declaring so. There is a risk that those random numbers are not statistically sound and the overall results might be invalid. To fix this, specify 'future.seed=TRUE'. This ensures that proper, parallel-safe random numbers are produced via the L'Ecuyer-CMRG method. To disable this check, use 'future.seed = NULL', or set option 'future.rng.onMisuse' to \"ignore\".”\n",
      "Warning message:\n",
      "“UNRELIABLE VALUE: One of the ‘future.apply’ iterations (‘future_lapply-1’) unexpectedly generated random numbers without declaring so. There is a risk that those random numbers are not statistically sound and the overall results might be invalid. To fix this, specify 'future.seed=TRUE'. This ensures that proper, parallel-safe random numbers are produced via the L'Ecuyer-CMRG method. To disable this check, use 'future.seed = NULL', or set option 'future.rng.onMisuse' to \"ignore\".”\n",
      "Warning message:\n",
      "“UNRELIABLE VALUE: One of the ‘future.apply’ iterations (‘future_lapply-1’) unexpectedly generated random numbers without declaring so. There is a risk that those random numbers are not statistically sound and the overall results might be invalid. To fix this, specify 'future.seed=TRUE'. This ensures that proper, parallel-safe random numbers are produced via the L'Ecuyer-CMRG method. To disable this check, use 'future.seed = NULL', or set option 'future.rng.onMisuse' to \"ignore\".”\n",
      "Warning message:\n",
      "“UNRELIABLE VALUE: One of the ‘future.apply’ iterations (‘future_lapply-1’) unexpectedly generated random numbers without declaring so. There is a risk that those random numbers are not statistically sound and the overall results might be invalid. To fix this, specify 'future.seed=TRUE'. This ensures that proper, parallel-safe random numbers are produced via the L'Ecuyer-CMRG method. To disable this check, use 'future.seed = NULL', or set option 'future.rng.onMisuse' to \"ignore\".”\n",
      "Warning message:\n",
      "“UNRELIABLE VALUE: One of the ‘future.apply’ iterations (‘future_lapply-1’) unexpectedly generated random numbers without declaring so. There is a risk that those random numbers are not statistically sound and the overall results might be invalid. To fix this, specify 'future.seed=TRUE'. This ensures that proper, parallel-safe random numbers are produced via the L'Ecuyer-CMRG method. To disable this check, use 'future.seed = NULL', or set option 'future.rng.onMisuse' to \"ignore\".”\n",
      "Warning message:\n",
      "“UNRELIABLE VALUE: One of the ‘future.apply’ iterations (‘future_lapply-1’) unexpectedly generated random numbers without declaring so. There is a risk that those random numbers are not statistically sound and the overall results might be invalid. To fix this, specify 'future.seed=TRUE'. This ensures that proper, parallel-safe random numbers are produced via the L'Ecuyer-CMRG method. To disable this check, use 'future.seed = NULL', or set option 'future.rng.onMisuse' to \"ignore\".”\n",
      "Warning message:\n",
      "“UNRELIABLE VALUE: One of the ‘future.apply’ iterations (‘future_lapply-1’) unexpectedly generated random numbers without declaring so. There is a risk that those random numbers are not statistically sound and the overall results might be invalid. To fix this, specify 'future.seed=TRUE'. This ensures that proper, parallel-safe random numbers are produced via the L'Ecuyer-CMRG method. To disable this check, use 'future.seed = NULL', or set option 'future.rng.onMisuse' to \"ignore\".”\n",
      "Warning message:\n",
      "“UNRELIABLE VALUE: One of the ‘future.apply’ iterations (‘future_lapply-1’) unexpectedly generated random numbers without declaring so. There is a risk that those random numbers are not statistically sound and the overall results might be invalid. To fix this, specify 'future.seed=TRUE'. This ensures that proper, parallel-safe random numbers are produced via the L'Ecuyer-CMRG method. To disable this check, use 'future.seed = NULL', or set option 'future.rng.onMisuse' to \"ignore\".”\n",
      "Warning message:\n",
      "“UNRELIABLE VALUE: One of the ‘future.apply’ iterations (‘future_lapply-1’) unexpectedly generated random numbers without declaring so. There is a risk that those random numbers are not statistically sound and the overall results might be invalid. To fix this, specify 'future.seed=TRUE'. This ensures that proper, parallel-safe random numbers are produced via the L'Ecuyer-CMRG method. To disable this check, use 'future.seed = NULL', or set option 'future.rng.onMisuse' to \"ignore\".”\n",
      "Warning message:\n",
      "“UNRELIABLE VALUE: One of the ‘future.apply’ iterations (‘future_lapply-1’) unexpectedly generated random numbers without declaring so. There is a risk that those random numbers are not statistically sound and the overall results might be invalid. To fix this, specify 'future.seed=TRUE'. This ensures that proper, parallel-safe random numbers are produced via the L'Ecuyer-CMRG method. To disable this check, use 'future.seed = NULL', or set option 'future.rng.onMisuse' to \"ignore\".”\n",
      "Warning message:\n",
      "“UNRELIABLE VALUE: One of the ‘future.apply’ iterations (‘future_lapply-1’) unexpectedly generated random numbers without declaring so. There is a risk that those random numbers are not statistically sound and the overall results might be invalid. To fix this, specify 'future.seed=TRUE'. This ensures that proper, parallel-safe random numbers are produced via the L'Ecuyer-CMRG method. To disable this check, use 'future.seed = NULL', or set option 'future.rng.onMisuse' to \"ignore\".”\n",
      "Warning message:\n",
      "“UNRELIABLE VALUE: One of the ‘future.apply’ iterations (‘future_lapply-1’) unexpectedly generated random numbers without declaring so. There is a risk that those random numbers are not statistically sound and the overall results might be invalid. To fix this, specify 'future.seed=TRUE'. This ensures that proper, parallel-safe random numbers are produced via the L'Ecuyer-CMRG method. To disable this check, use 'future.seed = NULL', or set option 'future.rng.onMisuse' to \"ignore\".”\n",
      "Warning message:\n",
      "“UNRELIABLE VALUE: One of the ‘future.apply’ iterations (‘future_lapply-1’) unexpectedly generated random numbers without declaring so. There is a risk that those random numbers are not statistically sound and the overall results might be invalid. To fix this, specify 'future.seed=TRUE'. This ensures that proper, parallel-safe random numbers are produced via the L'Ecuyer-CMRG method. To disable this check, use 'future.seed = NULL', or set option 'future.rng.onMisuse' to \"ignore\".”\n",
      "Warning message:\n",
      "“UNRELIABLE VALUE: One of the ‘future.apply’ iterations (‘future_lapply-1’) unexpectedly generated random numbers without declaring so. There is a risk that those random numbers are not statistically sound and the overall results might be invalid. To fix this, specify 'future.seed=TRUE'. This ensures that proper, parallel-safe random numbers are produced via the L'Ecuyer-CMRG method. To disable this check, use 'future.seed = NULL', or set option 'future.rng.onMisuse' to \"ignore\".”\n",
      "Warning message:\n",
      "“UNRELIABLE VALUE: One of the ‘future.apply’ iterations (‘future_lapply-1’) unexpectedly generated random numbers without declaring so. There is a risk that those random numbers are not statistically sound and the overall results might be invalid. To fix this, specify 'future.seed=TRUE'. This ensures that proper, parallel-safe random numbers are produced via the L'Ecuyer-CMRG method. To disable this check, use 'future.seed = NULL', or set option 'future.rng.onMisuse' to \"ignore\".”\n",
      "Warning message:\n",
      "“UNRELIABLE VALUE: One of the ‘future.apply’ iterations (‘future_lapply-1’) unexpectedly generated random numbers without declaring so. There is a risk that those random numbers are not statistically sound and the overall results might be invalid. To fix this, specify 'future.seed=TRUE'. This ensures that proper, parallel-safe random numbers are produced via the L'Ecuyer-CMRG method. To disable this check, use 'future.seed = NULL', or set option 'future.rng.onMisuse' to \"ignore\".”\n",
      "Warning message:\n",
      "“UNRELIABLE VALUE: One of the ‘future.apply’ iterations (‘future_lapply-1’) unexpectedly generated random numbers without declaring so. There is a risk that those random numbers are not statistically sound and the overall results might be invalid. To fix this, specify 'future.seed=TRUE'. This ensures that proper, parallel-safe random numbers are produced via the L'Ecuyer-CMRG method. To disable this check, use 'future.seed = NULL', or set option 'future.rng.onMisuse' to \"ignore\".”\n",
      "Warning message:\n",
      "“UNRELIABLE VALUE: One of the ‘future.apply’ iterations (‘future_lapply-1’) unexpectedly generated random numbers without declaring so. There is a risk that those random numbers are not statistically sound and the overall results might be invalid. To fix this, specify 'future.seed=TRUE'. This ensures that proper, parallel-safe random numbers are produced via the L'Ecuyer-CMRG method. To disable this check, use 'future.seed = NULL', or set option 'future.rng.onMisuse' to \"ignore\".”\n",
      "Warning message:\n",
      "“UNRELIABLE VALUE: One of the ‘future.apply’ iterations (‘future_lapply-1’) unexpectedly generated random numbers without declaring so. There is a risk that those random numbers are not statistically sound and the overall results might be invalid. To fix this, specify 'future.seed=TRUE'. This ensures that proper, parallel-safe random numbers are produced via the L'Ecuyer-CMRG method. To disable this check, use 'future.seed = NULL', or set option 'future.rng.onMisuse' to \"ignore\".”\n",
      "Warning message:\n",
      "“UNRELIABLE VALUE: One of the ‘future.apply’ iterations (‘future_lapply-1’) unexpectedly generated random numbers without declaring so. There is a risk that those random numbers are not statistically sound and the overall results might be invalid. To fix this, specify 'future.seed=TRUE'. This ensures that proper, parallel-safe random numbers are produced via the L'Ecuyer-CMRG method. To disable this check, use 'future.seed = NULL', or set option 'future.rng.onMisuse' to \"ignore\".”\n",
      "Warning message:\n",
      "“UNRELIABLE VALUE: One of the ‘future.apply’ iterations (‘future_lapply-1’) unexpectedly generated random numbers without declaring so. There is a risk that those random numbers are not statistically sound and the overall results might be invalid. To fix this, specify 'future.seed=TRUE'. This ensures that proper, parallel-safe random numbers are produced via the L'Ecuyer-CMRG method. To disable this check, use 'future.seed = NULL', or set option 'future.rng.onMisuse' to \"ignore\".”\n",
      "Warning message:\n",
      "“UNRELIABLE VALUE: One of the ‘future.apply’ iterations (‘future_lapply-1’) unexpectedly generated random numbers without declaring so. There is a risk that those random numbers are not statistically sound and the overall results might be invalid. To fix this, specify 'future.seed=TRUE'. This ensures that proper, parallel-safe random numbers are produced via the L'Ecuyer-CMRG method. To disable this check, use 'future.seed = NULL', or set option 'future.rng.onMisuse' to \"ignore\".”\n",
      "Warning message:\n",
      "“UNRELIABLE VALUE: One of the ‘future.apply’ iterations (‘future_lapply-1’) unexpectedly generated random numbers without declaring so. There is a risk that those random numbers are not statistically sound and the overall results might be invalid. To fix this, specify 'future.seed=TRUE'. This ensures that proper, parallel-safe random numbers are produced via the L'Ecuyer-CMRG method. To disable this check, use 'future.seed = NULL', or set option 'future.rng.onMisuse' to \"ignore\".”\n",
      "Warning message:\n",
      "“UNRELIABLE VALUE: One of the ‘future.apply’ iterations (‘future_lapply-1’) unexpectedly generated random numbers without declaring so. There is a risk that those random numbers are not statistically sound and the overall results might be invalid. To fix this, specify 'future.seed=TRUE'. This ensures that proper, parallel-safe random numbers are produced via the L'Ecuyer-CMRG method. To disable this check, use 'future.seed = NULL', or set option 'future.rng.onMisuse' to \"ignore\".”\n"
     ]
    }
   ],
   "source": [
    "bs.list <- mclapply(bs.list, FUN=FindClusters, resolution = 0.5, n.start = 10, verbose=FALSE, mc.cores=1)"
   ]
  },
  {
   "cell_type": "code",
   "execution_count": 11,
   "id": "c217ddf0",
   "metadata": {},
   "outputs": [
    {
     "name": "stderr",
     "output_type": "stream",
     "text": [
      "Warning message:\n",
      "“The default method for RunUMAP has changed from calling Python UMAP via reticulate to the R-native UWOT using the cosine metric\n",
      "To use Python UMAP via reticulate, set umap.method to 'umap-learn' and metric to 'correlation'\n",
      "This message will be shown once per session”\n"
     ]
    }
   ],
   "source": [
    "bs.list <- mclapply(bs.list, FUN=RunUMAP, dims=1:50, verbose=FALSE, mc.cores=1)"
   ]
  },
  {
   "cell_type": "code",
   "execution_count": 12,
   "id": "a6fdf764",
   "metadata": {},
   "outputs": [],
   "source": [
    "qsave(bs.list, file=\"2_big.seurat.splitlist.norm_v2.qs\", nthreads=16)"
   ]
  },
  {
   "cell_type": "code",
   "execution_count": 4,
   "id": "44147ce8",
   "metadata": {},
   "outputs": [],
   "source": [
    "bs.list <- qread(file=\"2_big.seurat.splitlist.norm_v2.qs\", nthreads=16)"
   ]
  },
  {
   "cell_type": "code",
   "execution_count": 10,
   "id": "85217005",
   "metadata": {},
   "outputs": [],
   "source": [
    "library(data.table)"
   ]
  },
  {
   "cell_type": "code",
   "execution_count": 11,
   "id": "6785e265",
   "metadata": {},
   "outputs": [
    {
     "name": "stderr",
     "output_type": "stream",
     "text": [
      "Warning message in dir.create(\"./counts\"):\n",
      "“'./counts' already exists”\n"
     ]
    }
   ],
   "source": [
    "#### Export counts matrix for SingleR ####\n",
    "dir.create(\"./counts\")\n",
    "for (i in 1:length(bs.list)) {\n",
    "    counts <- data.frame(GetAssayData(object = bs.list[[i]], slot = \"counts\"))\n",
    "    fname <- paste0(\"./counts/\", names(bs.list)[i], \".counts.txt\")\n",
    "    fwrite(counts, file=fname, sep = '\\t', row.names = T, col.names = T, nThread = 16)\n",
    "}"
   ]
  },
  {
   "cell_type": "code",
   "execution_count": 18,
   "id": "4ce7b688",
   "metadata": {},
   "outputs": [],
   "source": [
    "write.table(file=\"./counts/Samples.v2.txt\", sort(names(bs.list)), sep=\"\\n\", quote=F, col.names=F, row.names=F)"
   ]
  },
  {
   "cell_type": "code",
   "execution_count": 28,
   "id": "6f10d50d",
   "metadata": {},
   "outputs": [],
   "source": [
    "#### Import SingleR annotations and integrate ####\n",
    "for (i in 1:length(bs.list)) {\n",
    "  encode <- readRDS(file=paste0(\"./SingleR/\", names(bs.list)[i], \".encode.RDS\"))\n",
    "  hpca <- readRDS(file=paste0(\"./SingleR/\", names(bs.list)[i], \".hpca.RDS\"))\n",
    "\n",
    "  x <- match(make.names(colnames(bs.list[[i]])), rownames(encode))\n",
    "  bs.list[[i]]$'encode' <- encode$pruned.labels[x]\n",
    "  bs.list[[i]]$'encode.scores' <- encode$scores[x]\n",
    "\n",
    "  x <- match(make.names(colnames(bs.list[[i]])), rownames(hpca))\n",
    "  bs.list[[i]]$'hpca' <- hpca$pruned.labels[x]\n",
    "  bs.list[[i]]$'hpca.scores' <- hpca$scores[x]\n",
    "} "
   ]
  },
  {
   "cell_type": "code",
   "execution_count": 31,
   "id": "7f1d6db8",
   "metadata": {},
   "outputs": [],
   "source": [
    "qsave(bs.list, file=\"2.1_big.seurat.splitlist.norm_SingleR_v2.qs\", nthreads=16)"
   ]
  },
  {
   "cell_type": "code",
   "execution_count": null,
   "id": "51d06abd",
   "metadata": {},
   "outputs": [],
   "source": []
  }
 ],
 "metadata": {
  "kernelspec": {
   "display_name": "scrna",
   "language": "R",
   "name": "scrna"
  },
  "language_info": {
   "codemirror_mode": "r",
   "file_extension": ".r",
   "mimetype": "text/x-r-source",
   "name": "R",
   "pygments_lexer": "r",
   "version": "4.1.0"
  }
 },
 "nbformat": 4,
 "nbformat_minor": 5
}
